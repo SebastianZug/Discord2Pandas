{
 "cells": [
  {
   "cell_type": "markdown",
   "id": "36ad9d80",
   "metadata": {},
   "source": [
    "# Analyse time series of discord messages "
   ]
  },
  {
   "cell_type": "code",
   "execution_count": null,
   "id": "96d4fad6",
   "metadata": {},
   "outputs": [],
   "source": [
    "import pandas as pd\n",
    "import matplotlib as mpl\n",
    "import matplotlib.pyplot as plt\n",
    "import matplotlib.ticker as ticker\n",
    "from datetime import date"
   ]
  },
  {
   "cell_type": "markdown",
   "id": "e0b79bce",
   "metadata": {},
   "source": [
    "## Load aggregated message and channel lists "
   ]
  },
  {
   "cell_type": "code",
   "execution_count": null,
   "id": "a41f8fc4",
   "metadata": {},
   "outputs": [],
   "source": [
    "df_tml = pd.read_pickle(\"./textmessage_list.p\")\n",
    "df_tcl = pd.read_pickle(\"./textchannel_list.p\")\n",
    "df_cl = pd.read_pickle(\"./category_list.p\")"
   ]
  },
  {
   "cell_type": "code",
   "execution_count": null,
   "id": "21c7add4",
   "metadata": {},
   "outputs": [],
   "source": [
    "df_cl"
   ]
  },
  {
   "cell_type": "code",
   "execution_count": null,
   "id": "061c26bc",
   "metadata": {},
   "outputs": [],
   "source": [
    "df_tcl.head()"
   ]
  },
  {
   "cell_type": "code",
   "execution_count": null,
   "id": "943dc129",
   "metadata": {},
   "outputs": [],
   "source": [
    "df_tml"
   ]
  },
  {
   "cell_type": "markdown",
   "id": "d20033d7",
   "metadata": {},
   "source": [
    "## Merge tables"
   ]
  },
  {
   "cell_type": "code",
   "execution_count": null,
   "id": "e00c3a94",
   "metadata": {},
   "outputs": [],
   "source": [
    "df_channels = df_tcl.merge(df_cl, on='category_id')\n",
    "df_channels.head()"
   ]
  },
  {
   "cell_type": "code",
   "execution_count": null,
   "id": "7b02fcfc",
   "metadata": {},
   "outputs": [],
   "source": [
    "df_messages = df_tml.merge(df_channels, on='textchannel_id')\n",
    "df_messages.set_index('created_at', inplace = True)"
   ]
  },
  {
   "cell_type": "code",
   "execution_count": null,
   "id": "6ca518e9",
   "metadata": {},
   "outputs": [],
   "source": [
    "df_messages.head()"
   ]
  },
  {
   "cell_type": "markdown",
   "id": "6e24a9ec",
   "metadata": {},
   "source": [
    "## Time line plot"
   ]
  },
  {
   "cell_type": "code",
   "execution_count": null,
   "id": "1772c7d0",
   "metadata": {},
   "outputs": [],
   "source": [
    "df_messagetimeline = df_messages.message_id.resample('D').count()"
   ]
  },
  {
   "cell_type": "code",
   "execution_count": null,
   "id": "6b957c46",
   "metadata": {},
   "outputs": [],
   "source": [
    "fig, ax = plt.subplots(figsize=(12, 4))\n",
    "\n",
    "start_date = date.fromisoformat('2022-04-04')\n",
    "presentation_dates = [(date.fromisoformat('2022-04-27') - start_date).days,\n",
    "                      (date.fromisoformat('2022-05-23') - start_date).days,\n",
    "                      (date.fromisoformat('2022-07-11') - start_date).days]\n",
    "\n",
    "for presentation_date in presentation_dates:\n",
    "    ax.bar(presentation_date, 140, color = 'r', alpha=0.5)\n",
    "\n",
    "df_messagetimeline.plot(kind='bar', ax=ax)\n",
    "ax.set_title(\"Messages per day in Discord channels of robotik project\")\n",
    "ax.set_ylabel(\"Count\")\n",
    "ax.set_xlabel(\"Summer semester 2022\")\n",
    "\n",
    "ticklabels = ['']*len(df_messagetimeline.index)\n",
    "ticklabels[::4] = [item.strftime('%b %d') for item in df_messagetimeline.index[::4]]\n",
    "ax.xaxis.set_major_formatter(ticker.FixedFormatter(ticklabels))\n",
    "plt.gcf().autofmt_xdate()"
   ]
  }
 ],
 "metadata": {
  "kernelspec": {
   "display_name": "Python 3 (ipykernel)",
   "language": "python",
   "name": "python3"
  },
  "language_info": {
   "codemirror_mode": {
    "name": "ipython",
    "version": 3
   },
   "file_extension": ".py",
   "mimetype": "text/x-python",
   "name": "python",
   "nbconvert_exporter": "python",
   "pygments_lexer": "ipython3",
   "version": "3.9.13"
  }
 },
 "nbformat": 4,
 "nbformat_minor": 5
}
